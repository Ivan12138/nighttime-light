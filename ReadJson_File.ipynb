{
 "cells": [
  {
   "cell_type": "code",
   "execution_count": 7,
   "metadata": {},
   "outputs": [
    {
     "name": "stdout",
     "output_type": "stream",
     "text": [
      "                 type                                           features  \\\n",
      "0   FeatureCollection  {'id': '710000', 'type': 'Feature', 'geometry'...   \n",
      "1   FeatureCollection  {'id': '130000', 'type': 'Feature', 'geometry'...   \n",
      "2   FeatureCollection  {'id': '140000', 'type': 'Feature', 'geometry'...   \n",
      "3   FeatureCollection  {'id': '150000', 'type': 'Feature', 'geometry'...   \n",
      "4   FeatureCollection  {'id': '210000', 'type': 'Feature', 'geometry'...   \n",
      "5   FeatureCollection  {'id': '220000', 'type': 'Feature', 'geometry'...   \n",
      "6   FeatureCollection  {'id': '230000', 'type': 'Feature', 'geometry'...   \n",
      "7   FeatureCollection  {'id': '320000', 'type': 'Feature', 'geometry'...   \n",
      "8   FeatureCollection  {'id': '330000', 'type': 'Feature', 'geometry'...   \n",
      "9   FeatureCollection  {'id': '340000', 'type': 'Feature', 'geometry'...   \n",
      "10  FeatureCollection  {'id': '350000', 'type': 'Feature', 'geometry'...   \n",
      "11  FeatureCollection  {'id': '360000', 'type': 'Feature', 'geometry'...   \n",
      "12  FeatureCollection  {'id': '370000', 'type': 'Feature', 'geometry'...   \n",
      "13  FeatureCollection  {'id': '410000', 'type': 'Feature', 'geometry'...   \n",
      "14  FeatureCollection  {'id': '420000', 'type': 'Feature', 'geometry'...   \n",
      "15  FeatureCollection  {'id': '430000', 'type': 'Feature', 'geometry'...   \n",
      "16  FeatureCollection  {'id': '440000', 'type': 'Feature', 'geometry'...   \n",
      "17  FeatureCollection  {'id': '450000', 'type': 'Feature', 'geometry'...   \n",
      "18  FeatureCollection  {'id': '460000', 'type': 'Feature', 'geometry'...   \n",
      "19  FeatureCollection  {'id': '510000', 'type': 'Feature', 'geometry'...   \n",
      "20  FeatureCollection  {'id': '520000', 'type': 'Feature', 'geometry'...   \n",
      "21  FeatureCollection  {'id': '530000', 'type': 'Feature', 'geometry'...   \n",
      "22  FeatureCollection  {'id': '540000', 'type': 'Feature', 'geometry'...   \n",
      "23  FeatureCollection  {'id': '610000', 'type': 'Feature', 'geometry'...   \n",
      "24  FeatureCollection  {'id': '620000', 'type': 'Feature', 'geometry'...   \n",
      "25  FeatureCollection  {'id': '630000', 'type': 'Feature', 'geometry'...   \n",
      "26  FeatureCollection  {'id': '640000', 'type': 'Feature', 'geometry'...   \n",
      "27  FeatureCollection  {'id': '650000', 'type': 'Feature', 'geometry'...   \n",
      "28  FeatureCollection  {'id': '110000', 'type': 'Feature', 'geometry'...   \n",
      "29  FeatureCollection  {'id': '120000', 'type': 'Feature', 'geometry'...   \n",
      "30  FeatureCollection  {'id': '310000', 'type': 'Feature', 'geometry'...   \n",
      "31  FeatureCollection  {'id': '500000', 'type': 'Feature', 'geometry'...   \n",
      "32  FeatureCollection  {'id': '810000', 'type': 'Feature', 'geometry'...   \n",
      "33  FeatureCollection  {'id': '820000', 'type': 'Feature', 'geometry'...   \n",
      "\n",
      "    UTF8Encoding  \n",
      "0           True  \n",
      "1           True  \n",
      "2           True  \n",
      "3           True  \n",
      "4           True  \n",
      "5           True  \n",
      "6           True  \n",
      "7           True  \n",
      "8           True  \n",
      "9           True  \n",
      "10          True  \n",
      "11          True  \n",
      "12          True  \n",
      "13          True  \n",
      "14          True  \n",
      "15          True  \n",
      "16          True  \n",
      "17          True  \n",
      "18          True  \n",
      "19          True  \n",
      "20          True  \n",
      "21          True  \n",
      "22          True  \n",
      "23          True  \n",
      "24          True  \n",
      "25          True  \n",
      "26          True  \n",
      "27          True  \n",
      "28          True  \n",
      "29          True  \n",
      "30          True  \n",
      "31          True  \n",
      "32          True  \n",
      "33          True  \n"
     ]
    }
   ],
   "source": [
    "import pandas as pd \n",
    "file = pd.read_json(\"E:/学习/研一下/川大学习/通过夜间灯光探讨中印边界的发展问题/echarts最新中国地图jsjson数据文件/json/china.json\")\n",
    "print(file)"
   ]
  }
 ],
 "metadata": {
  "kernelspec": {
   "display_name": "Python 3",
   "language": "python",
   "name": "python3"
  },
  "language_info": {
   "codemirror_mode": {
    "name": "ipython",
    "version": 3
   },
   "file_extension": ".py",
   "mimetype": "text/x-python",
   "name": "python",
   "nbconvert_exporter": "python",
   "pygments_lexer": "ipython3",
   "version": "3.7.3"
  }
 },
 "nbformat": 4,
 "nbformat_minor": 2
}
